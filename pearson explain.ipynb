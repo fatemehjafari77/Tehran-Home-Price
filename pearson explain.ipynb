{
 "cells": [
  {
   "cell_type": "markdown",
   "id": "b3e11c58",
   "metadata": {},
   "source": [
    "# Area"
   ]
  },
  {
   "cell_type": "code",
   "execution_count": null,
   "id": "d34e88a6",
   "metadata": {
    "vscode": {
     "languageId": "plaintext"
    }
   },
   "outputs": [],
   "source": [
    "relative between Area and room\n",
    "statistic=np.float64(0.6729547679817094), pvalue=np.float64(0.0)\n",
    "•\tstatistic = 0.673 indicates a moderately strong positive correlation.\n",
    "•\tpvalue = 0.0 means the result is not due to random chance and the correlation is statistically significant."
   ]
  },
  {
   "cell_type": "code",
   "execution_count": null,
   "id": "75b28ec0",
   "metadata": {
    "vscode": {
     "languageId": "plaintext"
    }
   },
   "outputs": [],
   "source": [
    "relative between Area and Parking\n",
    "statistic=np.float64(0.19789000078469635), pvalue=np.float64(8.390068148960996e-32)\n",
    "•\tstatistic = 0.198 → the correlation is positive but weak.\n",
    "•\tpvalue = 8.39e-32 → the correlation is statistically significant and not due to random chance."
   ]
  },
  {
   "cell_type": "code",
   "execution_count": null,
   "id": "4379cd0a",
   "metadata": {
    "vscode": {
     "languageId": "plaintext"
    }
   },
   "outputs": [],
   "source": [
    "relative between Area and Warehouse\n",
    "statistic=np.float64(0.07616056225922598), pvalue=np.float64(7.523831021357215e-06)\n",
    "•\tstatistic = 0.076 → the correlation is positive but very weak.\n",
    "•\tpvalue = 7.52e-06 → the correlation is statistically significant and not due to random chance."
   ]
  },
  {
   "cell_type": "code",
   "execution_count": null,
   "id": "03b16f24",
   "metadata": {
    "vscode": {
     "languageId": "plaintext"
    }
   },
   "outputs": [],
   "source": [
    "relative between Area and Price\n",
    "statistic=np.float64(0.7226107334368046), pvalue=np.float64(0.0)\n",
    "•\tstatistic = 0.723 → the correlation is positive and relatively strong.\n",
    "•\tpvalue = 0.0 → the correlation is statistically significant and not due to random chance"
   ]
  },
  {
   "cell_type": "code",
   "execution_count": null,
   "id": "36e8d97a",
   "metadata": {
    "vscode": {
     "languageId": "plaintext"
    }
   },
   "outputs": [],
   "source": [
    "relative between Area and Price(USD)\n",
    "statistic=np.float64(0.7226107334368046), pvalue=np.float64(0.0)\n",
    "•\tstatistic = 0.723 → the correlation is positive and relatively strong.\n",
    "•\tpvalue = 0.0 → the correlation is statistically significant and not due to random chance"
   ]
  },
  {
   "cell_type": "code",
   "execution_count": null,
   "id": "ae89c042",
   "metadata": {
    "vscode": {
     "languageId": "plaintext"
    }
   },
   "outputs": [],
   "source": [
    "relative between Area and Address\n",
    "11.795147508171732 1.4377716160400586e-251\n",
    "•\tt-statistic = 11.795 → indicates a very strong and significant relationship between the variables.\n",
    "•\tpvalue = 1.44e-251 → the relationship is statistically significant and not due to random chance."
   ]
  },
  {
   "cell_type": "markdown",
   "id": "3040dccd",
   "metadata": {},
   "source": [
    "# Room"
   ]
  },
  {
   "cell_type": "code",
   "execution_count": null,
   "id": "a4cfdee0",
   "metadata": {
    "vscode": {
     "languageId": "plaintext"
    }
   },
   "outputs": [],
   "source": [
    "relative between Room and Parking\n",
    "statistic=np.float64(0.27442504207241947), pvalue=np.float64(1.178355534485526e-60)\n",
    "•\tstatistic = 0.274 → the correlation is positive but weak to moderate.\n",
    "•\tpvalue = 1.18e-60 → the correlation is statistically significant and not due to random chance."
   ]
  },
  {
   "cell_type": "code",
   "execution_count": null,
   "id": "82d7638b",
   "metadata": {
    "vscode": {
     "languageId": "plaintext"
    }
   },
   "outputs": [],
   "source": [
    "relative between Room and Warehouse\n",
    "statistic=np.float64(0.12964929909672462), pvalue=np.float64(2.0943791011448637e-14)\n",
    "•\tstatistic = 0.130 → the correlation is positive but weak.\n",
    "•\tpvalue = 2.09e-14 → the correlation is statistically significant and not due to random chance."
   ]
  },
  {
   "cell_type": "code",
   "execution_count": null,
   "id": "8a1cf8da",
   "metadata": {
    "vscode": {
     "languageId": "plaintext"
    }
   },
   "outputs": [],
   "source": [
    "relative between Room and Price\n",
    "statistic=np.float64(0.567872062527608), pvalue=np.float64(7.758975644829404e-294)\n",
    "•\tstatistic = 0.568 → the correlation is positive and relatively strong.\n",
    "•\tpvalue = 7.76e-294 → the correlation is statistically significant and not due to random chance."
   ]
  },
  {
   "cell_type": "code",
   "execution_count": null,
   "id": "e0b8c4aa",
   "metadata": {
    "vscode": {
     "languageId": "plaintext"
    }
   },
   "outputs": [],
   "source": [
    "relative between Room and Elevator\n",
    "statistic=np.float64(0.18037954660238914), pvalue=np.float64(1.2796356315308086e-26)\n",
    "•\tstatistic = 0.180 → the correlation is positive but weak.\n",
    "•\tpvalue = 1.28e-26 → the correlation is statistically significant and not due to random chance."
   ]
  },
  {
   "cell_type": "code",
   "execution_count": null,
   "id": "99d8fd07",
   "metadata": {
    "vscode": {
     "languageId": "plaintext"
    }
   },
   "outputs": [],
   "source": [
    "relative between Area and Address\n",
    "7.0534364652671915 2.928533290370111e-138\n",
    "•\tt-statistic = 7.053 → indicates a strong and significant relationship between the variables.\n",
    "•\tpvalue = 2.93e-138 → the relationship is statistically significant and not due to random chance."
   ]
  },
  {
   "cell_type": "markdown",
   "id": "0362b2db",
   "metadata": {},
   "source": [
    "# Parking"
   ]
  },
  {
   "cell_type": "code",
   "execution_count": null,
   "id": "c3785fc4",
   "metadata": {
    "vscode": {
     "languageId": "plaintext"
    }
   },
   "outputs": [],
   "source": [
    "relative between Parking and Warehouse\n",
    "statistic=np.float64(0.4319246832279678), pvalue=np.float64(7.931532652996873e-157)\n",
    "•\tstatistic = 0.432 → the correlation is positive and moderate.\n",
    "•\tpvalue = 7.93e-157 → the correlation is statistically significant and not due to random chance."
   ]
  },
  {
   "cell_type": "code",
   "execution_count": null,
   "id": "562289ff",
   "metadata": {
    "vscode": {
     "languageId": "plaintext"
    }
   },
   "outputs": [],
   "source": [
    "relative between Parking and Price\n",
    "statistic=np.float64(0.19122126357011435), pvalue=np.float64(9.072770563892551e-30)\n",
    "•\tstatistic = 0.191 → the correlation is positive but weak.\n",
    "•\tpvalue = 9.07e-30 → the correlation is statistically significant and not due to random chance"
   ]
  },
  {
   "cell_type": "code",
   "execution_count": null,
   "id": "edc39a55",
   "metadata": {
    "vscode": {
     "languageId": "plaintext"
    }
   },
   "outputs": [],
   "source": [
    "relative between parking and Address\n",
    "7.8301787141517245 1.033271775728802e-157\n",
    "•\tt-statistic = 7.830 → indicates a strong and significant relationship between the variables.\n",
    "•\tpvalue = 1.03e-157 → the relationship is statistically significant and not due to random chance."
   ]
  },
  {
   "cell_type": "markdown",
   "id": "970cfa18",
   "metadata": {},
   "source": [
    "# Price"
   ]
  },
  {
   "cell_type": "code",
   "execution_count": null,
   "id": "1f638892",
   "metadata": {
    "vscode": {
     "languageId": "plaintext"
    }
   },
   "outputs": [],
   "source": [
    "relative between price and Address\n",
    "17.67928933810297 0.0\n",
    "•\tt-statistic = 17.679 → indicates a very strong and significant relationship between the variables.\n",
    "•\tpvalue = 0.0 → the relationship is statistically significant and not due to random chance"
   ]
  }
 ],
 "metadata": {
  "language_info": {
   "name": "python"
  }
 },
 "nbformat": 4,
 "nbformat_minor": 5
}
